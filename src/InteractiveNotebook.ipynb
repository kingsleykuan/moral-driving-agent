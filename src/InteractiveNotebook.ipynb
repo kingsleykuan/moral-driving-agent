{
 "cells": [
  {
   "cell_type": "code",
   "execution_count": 2,
   "id": "cae784c0-62f4-463b-8928-8a896370f282",
   "metadata": {},
   "outputs": [
    {
     "ename": "ModuleNotFoundError",
     "evalue": "No module named 'gym'",
     "output_type": "error",
     "traceback": [
      "\u001b[1;31m---------------------------------------------------------------------------\u001b[0m",
      "\u001b[1;31mModuleNotFoundError\u001b[0m                       Traceback (most recent call last)",
      "\u001b[1;32m~\\AppData\\Local\\Temp/ipykernel_1500/2083331940.py\u001b[0m in \u001b[0;36m<module>\u001b[1;34m\u001b[0m\n\u001b[0;32m      2\u001b[0m \u001b[1;32mfrom\u001b[0m \u001b[0mipywidgets\u001b[0m \u001b[1;32mimport\u001b[0m \u001b[0minteract\u001b[0m\u001b[1;33m,\u001b[0m \u001b[0minteractive\u001b[0m\u001b[1;33m,\u001b[0m \u001b[0mfixed\u001b[0m\u001b[1;33m,\u001b[0m \u001b[0minteract_manual\u001b[0m\u001b[1;33m\u001b[0m\u001b[1;33m\u001b[0m\u001b[0m\n\u001b[0;32m      3\u001b[0m \u001b[1;32mimport\u001b[0m \u001b[0mipywidgets\u001b[0m \u001b[1;32mas\u001b[0m \u001b[0mwidgets\u001b[0m\u001b[1;33m\u001b[0m\u001b[1;33m\u001b[0m\u001b[0m\n\u001b[1;32m----> 4\u001b[1;33m \u001b[1;32mimport\u001b[0m \u001b[0mlearning_network\u001b[0m\u001b[1;33m.\u001b[0m\u001b[0mevaluate_moral_dqn\u001b[0m \u001b[1;32mas\u001b[0m \u001b[0mmoral_dqn\u001b[0m\u001b[1;33m\u001b[0m\u001b[1;33m\u001b[0m\u001b[0m\n\u001b[0m\u001b[0;32m      5\u001b[0m \u001b[1;32mimport\u001b[0m \u001b[0menvironment\u001b[0m\u001b[1;33m.\u001b[0m\u001b[0mgym_grid_driving\u001b[0m\u001b[1;33m.\u001b[0m\u001b[0menvs\u001b[0m\u001b[1;33m.\u001b[0m\u001b[0mgrid_driving\u001b[0m \u001b[1;32mas\u001b[0m \u001b[0mgd\u001b[0m\u001b[1;33m\u001b[0m\u001b[1;33m\u001b[0m\u001b[0m\n\u001b[0;32m      6\u001b[0m \u001b[1;33m\u001b[0m\u001b[0m\n",
      "\u001b[1;32mf:\\schoolSyncthing\\nus\\y3\\sem1\\cs4246\\project\\moral-driving-agent\\src\\learning_network\\evaluate_moral_dqn.py\u001b[0m in \u001b[0;36m<module>\u001b[1;34m\u001b[0m\n\u001b[0;32m      2\u001b[0m \u001b[1;32mimport\u001b[0m \u001b[0mrandom\u001b[0m\u001b[1;33m\u001b[0m\u001b[1;33m\u001b[0m\u001b[0m\n\u001b[0;32m      3\u001b[0m \u001b[1;33m\u001b[0m\u001b[0m\n\u001b[1;32m----> 4\u001b[1;33m \u001b[1;32mimport\u001b[0m \u001b[0mgym\u001b[0m\u001b[1;33m\u001b[0m\u001b[1;33m\u001b[0m\u001b[0m\n\u001b[0m\u001b[0;32m      5\u001b[0m \u001b[1;32mimport\u001b[0m \u001b[0mnumpy\u001b[0m \u001b[1;32mas\u001b[0m \u001b[0mnp\u001b[0m\u001b[1;33m\u001b[0m\u001b[1;33m\u001b[0m\u001b[0m\n\u001b[0;32m      6\u001b[0m \u001b[1;32mimport\u001b[0m \u001b[0mtorch\u001b[0m\u001b[1;33m\u001b[0m\u001b[1;33m\u001b[0m\u001b[0m\n",
      "\u001b[1;31mModuleNotFoundError\u001b[0m: No module named 'gym'"
     ]
    }
   ],
   "source": [
    "from __future__ import print_function\n",
    "from ipywidgets import interact, interactive, fixed, interact_manual\n",
    "import ipywidgets as widgets\n",
    "import learning_network.evaluate_moral_dqn as moral_dqn\n",
    "import environment.gym_grid_driving.envs.grid_driving as gd\n",
    "\n",
    "@interact(numLanes = 5, numCarsPerLane= 1, width=10, agentMaxSpeed=2, agentMinSpeed=1, seed=0.0)\n",
    "def g(numLanes, numCarsPerLane, width, agentMaxSpeed, agentMinSpeed, seed):\n",
    "    MODEL_PATH = 'models/double_dqn'\n",
    "    DATA_PATH = 'data/moral_data_val.npz'\n",
    "    ENV_CONFIG = {\n",
    "        'lanes': [\n",
    "            gd.LaneSpec(cars=numCarsPerLane, speed_range=[-2, -1]),\n",
    "            gd.LaneSpec(cars=numCarsPerLane, speed_range=[-2, -1]),\n",
    "            gd.LaneSpec(cars=numCarsPerLane, speed_range=[-2, -1]),\n",
    "            gd.LaneSpec(cars=numCarsPerLane, speed_range=[-2, -1]),\n",
    "            gd.LaneSpec(cars=numCarsPerLane, speed_range=[-2, -1]),\n",
    "            ],\n",
    "        'width': width,\n",
    "        'agent_pos_init': gd.Point(9, 2),\n",
    "        'finish_position': gd.Point(0, 2),\n",
    "        'random_lane_speed': False,\n",
    "        'ensure_initial_solvable': False,\n",
    "\n",
    "        'moral_reward_model_path': 'models/moral_reward',\n",
    "        'observations': [\n",
    "            gd.ObsSpec(1, (2, 1)),\n",
    "            gd.ObsSpec(2, (2, 3))\n",
    "            ],\n",
    "\n",
    "        'agent_speed_range': [-agentMaxSpeed, -agentMinSpeed],\n",
    "\n",
    "        'rewards': gd.DenseReward,\n",
    "        'observation_type': 'tensor',\n",
    "        'mask': None,\n",
    "        'stochasticity': 0.0,\n",
    "\n",
    "        'random_seed': seed,\n",
    "    }\n",
    "\n",
    "    moral_dqn.main(MODEL_PATH, DATA_PATH, ENV_CONFIG)\n"
   ]
  },
  {
   "cell_type": "code",
   "execution_count": null,
   "id": "99f6e5b3-1e70-4d35-b503-2dfcb43360ef",
   "metadata": {},
   "outputs": [],
   "source": []
  }
 ],
 "metadata": {
  "kernelspec": {
   "display_name": "Python 3",
   "language": "python",
   "name": "python3"
  },
  "language_info": {
   "codemirror_mode": {
    "name": "ipython",
    "version": 3
   },
   "file_extension": ".py",
   "mimetype": "text/x-python",
   "name": "python",
   "nbconvert_exporter": "python",
   "pygments_lexer": "ipython3",
   "version": "3.9.7"
  }
 },
 "nbformat": 4,
 "nbformat_minor": 5
}
