{
 "cells": [
  {
   "cell_type": "code",
   "execution_count": 1,
   "id": "cae784c0-62f4-463b-8928-8a896370f282",
   "metadata": {},
   "outputs": [
    {
     "data": {
      "application/vnd.jupyter.widget-view+json": {
       "model_id": "80be4d982a504df395c58be63bcbb729",
       "version_major": 2,
       "version_minor": 0
      },
      "text/plain": [
       "HBox(children=(VBox(children=(Label(value='Config'), IntSlider(value=5, description='Lanes', max=10, min=5), I…"
      ]
     },
     "metadata": {},
     "output_type": "display_data"
    },
    {
     "data": {
      "application/vnd.jupyter.widget-view+json": {
       "model_id": "e10a0cc61f8f409d9089fec6b7f69124",
       "version_major": 2,
       "version_minor": 0
      },
      "text/plain": [
       "Output()"
      ]
     },
     "metadata": {},
     "output_type": "display_data"
    },
    {
     "data": {
      "application/vnd.jupyter.widget-view+json": {
       "model_id": "df3b980e19ec4527a7f676cf984100ee",
       "version_major": 2,
       "version_minor": 0
      },
      "text/plain": [
       "Output()"
      ]
     },
     "metadata": {},
     "output_type": "display_data"
    },
    {
     "data": {
      "application/vnd.jupyter.widget-view+json": {
       "model_id": "4c30a74ab5444b98b9234b21686c083f",
       "version_major": 2,
       "version_minor": 0
      },
      "text/plain": [
       "Output()"
      ]
     },
     "metadata": {},
     "output_type": "display_data"
    }
   ],
   "source": [
    "# Config UI\n",
    "\n",
    "from __future__ import print_function\n",
    "from ipywidgets import interact, interactive, fixed, interact_manual\n",
    "import ipywidgets as widgets\n",
    "from IPython.display import display\n",
    "import learning_network.evaluate_moral_dqn as moral_dqn\n",
    "import environment.gym_grid_driving.envs.grid_driving as grid_driving\n",
    "\n",
    "import gym\n",
    "import torch\n",
    "\n",
    "from learning_network.model import DQNModel\n",
    "\n",
    "device = torch.device('cuda' if torch.cuda.is_available() else 'cpu')\n",
    "\n",
    "model_path = 'models/double_dqn'\n",
    "env_config = {\n",
    "    'lanes': [\n",
    "        grid_driving.LaneSpec(cars=1, speed_range=[-2, -1]),\n",
    "        grid_driving.LaneSpec(cars=1, speed_range=[-2, -1]),\n",
    "        grid_driving.LaneSpec(cars=1, speed_range=[-2, -1]),\n",
    "        grid_driving.LaneSpec(cars=1, speed_range=[-2, -1]),\n",
    "        grid_driving.LaneSpec(cars=1, speed_range=[-2, -1]),\n",
    "    ],\n",
    "    'width': 10,\n",
    "    'agent_pos_init': grid_driving.Point(9, 2),\n",
    "    'finish_position': grid_driving.Point(0, 2),\n",
    "    'random_lane_speed': False,\n",
    "    'ensure_initial_solvable': False,\n",
    "\n",
    "    'moral_reward_model_path': 'models/moral_reward',\n",
    "    'features': [None, None],\n",
    "    'observations': [\n",
    "        grid_driving.ObsSpec(1, (2, 1)),\n",
    "        grid_driving.ObsSpec(2, (2, 3))\n",
    "    ],\n",
    "\n",
    "    'agent_speed_range': [-2, -1],\n",
    "\n",
    "    'rewards': grid_driving.DenseReward,\n",
    "    'observation_type': 'tensor',\n",
    "    'mask': None,\n",
    "    'stochasticity': 0.0,\n",
    "\n",
    "    'random_seed': 0,\n",
    "}\n",
    "\n",
    "\n",
    "def update_config(\n",
    "        num_lanes,\n",
    "        num_cars_per_lane,\n",
    "        width,\n",
    "        random_seed):\n",
    "    lanes = []\n",
    "    for i in range(num_lanes):\n",
    "        lanes.append(grid_driving.LaneSpec(\n",
    "            cars=num_cars_per_lane, speed_range=[-2, -1]))\n",
    "    env_config['lanes'] = lanes\n",
    "\n",
    "    env_config['width'] = width\n",
    "    env_config['random_seed'] = random_seed\n",
    "\n",
    "\n",
    "def update_features(\n",
    "        id,\n",
    "        ped_ped,\n",
    "        barrier,\n",
    "        crossing_signal,\n",
    "        man,\n",
    "        woman,\n",
    "        pregnant,\n",
    "        stroller,\n",
    "        old_man,\n",
    "        old_woman,\n",
    "        boy,\n",
    "        girl,\n",
    "        homeless,\n",
    "        large_woman,\n",
    "        large_man,\n",
    "        criminal,\n",
    "        m_executive,\n",
    "        f_executive,\n",
    "        f_athlete,\n",
    "        m_athlete,\n",
    "        f_doctor,\n",
    "        m_doctor,\n",
    "        dog,\n",
    "        cat):\n",
    "    feats = grid_driving.FeatSpec(\n",
    "        id, False, 0,\n",
    "        ped_ped,\n",
    "        barrier,\n",
    "        crossing_signal,\n",
    "        man,\n",
    "        woman,\n",
    "        pregnant,\n",
    "        stroller,\n",
    "        old_man,\n",
    "        old_woman,\n",
    "        boy,\n",
    "        girl,\n",
    "        homeless,\n",
    "        large_woman,\n",
    "        large_man,\n",
    "        criminal,\n",
    "        m_executive,\n",
    "        f_executive,\n",
    "        f_athlete,\n",
    "        m_athlete,\n",
    "        f_doctor,\n",
    "        m_doctor,\n",
    "        dog,\n",
    "        cat)\n",
    "    env_config['features'][id - 1] = feats\n",
    "\n",
    "\n",
    "feature_names = (\n",
    "    'ped_ped',\n",
    "    'barrier',\n",
    "    'crossing_signal',\n",
    "    'man',\n",
    "    'woman',\n",
    "    'pregnant',\n",
    "    'stroller',\n",
    "    'old_man',\n",
    "    'old_woman',\n",
    "    'boy',\n",
    "    'girl',\n",
    "    'homeless',\n",
    "    'large_woman',\n",
    "    'large_man',\n",
    "    'criminal',\n",
    "    'm_executive',\n",
    "    'f_executive',\n",
    "    'f_athlete',\n",
    "    'm_athlete',\n",
    "    'f_doctor',\n",
    "    'm_doctor',\n",
    "    'dog',\n",
    "    'cat',\n",
    ")\n",
    "\n",
    "sliders_config = {\n",
    "    'num_lanes': widgets.IntSlider(\n",
    "        min=5, max=10, step=1, value=5, description='Lanes'),\n",
    "    'num_cars_per_lane': widgets.IntSlider(\n",
    "        min=1, max=5, step=1, value=1, description='Cars per Lane'),\n",
    "    'width': widgets.IntSlider(\n",
    "        min=10, max=20, step=1, value=10, description='Width'),\n",
    "    'random_seed': widgets.IntSlider(\n",
    "        min=0, max=100, step=1, value=0, description='Seed')\n",
    "}\n",
    "sliders_1 = {\n",
    "    name: widgets.IntSlider(min=0, max=5, step=1, value=0, description=name)\n",
    "    for name in feature_names}\n",
    "sliders_2 = {\n",
    "    name: widgets.IntSlider(min=0, max=5, step=1, value=0, description=name)\n",
    "    for name in feature_names}\n",
    "\n",
    "ui_config = widgets.VBox(\n",
    "    [widgets.Label('Config')] + [slider for slider in sliders_config.values()])\n",
    "ui_1 = widgets.VBox(\n",
    "    [widgets.Label('1')] + [slider for slider in sliders_1.values()])\n",
    "ui_2 = widgets.VBox(\n",
    "    [widgets.Label('2')] + [slider for slider in sliders_2.values()])\n",
    "ui =  widgets.HBox([ui_config, ui_1, ui_2])\n",
    "\n",
    "sliders_1['id'] = widgets.fixed(1)\n",
    "sliders_2['id'] = widgets.fixed(2)\n",
    "\n",
    "out_config = widgets.interactive_output(update_config, sliders_config)\n",
    "out_1 = widgets.interactive_output(update_features, sliders_1)\n",
    "out_2 = widgets.interactive_output(update_features, sliders_2)\n",
    "\n",
    "display(ui, out_config, out_1, out_2)"
   ]
  },
  {
   "cell_type": "code",
   "execution_count": 8,
   "id": "cd0cd84c",
   "metadata": {},
   "outputs": [
    {
     "data": {
      "application/vnd.jupyter.widget-view+json": {
       "model_id": "a22bfa0d09be4a78a300d406fcda53b9",
       "version_major": 2,
       "version_minor": 0
      },
      "text/plain": [
       "VBox(children=(Output(), IntSlider(value=0, description='timestep', layout=Layout(width='25%'), max=6)))"
      ]
     },
     "metadata": {},
     "output_type": "display_data"
    }
   ],
   "source": [
    "# Simulator\n",
    "\n",
    "def load_model(model_path):\n",
    "    return DQNModel.load(model_path)\n",
    "\n",
    "def load_env(env_config):\n",
    "    return gym.make('MoralGridDriving-v0', **env_config)\n",
    "\n",
    "model = load_model(model_path)\n",
    "model = model.eval()\n",
    "model = model.to(device)\n",
    "\n",
    "env = load_env(env_config)\n",
    "\n",
    "outputs = []\n",
    "\n",
    "state = env.reset()\n",
    "output = env.render(mode='ansi')\n",
    "outputs.append(output)\n",
    "for i in range(100):\n",
    "    state = torch.tensor(state, dtype=torch.float, device=device)\n",
    "    state = torch.unsqueeze(state, 0)\n",
    "    with torch.no_grad():\n",
    "        action = torch.argmax(model(state)['rewards']).item()\n",
    "\n",
    "    next_state, reward, done, info = env.step(action)\n",
    "    output = env.render(mode='ansi')\n",
    "    outputs.append(output)\n",
    "    state = next_state\n",
    "\n",
    "    if done:\n",
    "        break\n",
    "\n",
    "timestep_slider = widgets.IntSlider(\n",
    "    min=0, max=len(outputs) - 1, step=1, value=0,\n",
    "    description='timestep', layout=widgets.Layout(width='25%'))\n",
    "def display_output(timestep):\n",
    "    print(outputs[timestep])\n",
    "\n",
    "out = widgets.interactive_output(display_output, {'timestep': timestep_slider})\n",
    "\n",
    "output_ui = widgets.VBox([out, timestep_slider])\n",
    "display(output_ui)"
   ]
  }
 ],
 "metadata": {
  "interpreter": {
   "hash": "d4d1e4263499bec80672ea0156c357c1ee493ec2b1c70f0acce89fc37c4a6abe"
  },
  "kernelspec": {
   "display_name": "Python 3.9.7 64-bit ('base': conda)",
   "name": "python3"
  },
  "language_info": {
   "codemirror_mode": {
    "name": "ipython",
    "version": 3
   },
   "file_extension": ".py",
   "mimetype": "text/x-python",
   "name": "python",
   "nbconvert_exporter": "python",
   "pygments_lexer": "ipython3",
   "version": "3.9.7"
  }
 },
 "nbformat": 4,
 "nbformat_minor": 5
}
